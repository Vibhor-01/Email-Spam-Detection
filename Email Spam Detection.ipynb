{
 "cells": [
  {
   "cell_type": "code",
   "execution_count": 1,
   "metadata": {},
   "outputs": [],
   "source": [
    "import pandas as pd\n",
    "import numpy as np\n",
    "import tensorflow as tf"
   ]
  },
  {
   "cell_type": "code",
   "execution_count": 2,
   "metadata": {},
   "outputs": [
    {
     "data": {
      "text/html": [
       "<div>\n",
       "<style scoped>\n",
       "    .dataframe tbody tr th:only-of-type {\n",
       "        vertical-align: middle;\n",
       "    }\n",
       "\n",
       "    .dataframe tbody tr th {\n",
       "        vertical-align: top;\n",
       "    }\n",
       "\n",
       "    .dataframe thead th {\n",
       "        text-align: right;\n",
       "    }\n",
       "</style>\n",
       "<table border=\"1\" class=\"dataframe\">\n",
       "  <thead>\n",
       "    <tr style=\"text-align: right;\">\n",
       "      <th></th>\n",
       "      <th>Email No.</th>\n",
       "      <th>the</th>\n",
       "      <th>to</th>\n",
       "      <th>ect</th>\n",
       "      <th>and</th>\n",
       "      <th>for</th>\n",
       "      <th>of</th>\n",
       "      <th>a</th>\n",
       "      <th>you</th>\n",
       "      <th>hou</th>\n",
       "      <th>...</th>\n",
       "      <th>connevey</th>\n",
       "      <th>jay</th>\n",
       "      <th>valued</th>\n",
       "      <th>lay</th>\n",
       "      <th>infrastructure</th>\n",
       "      <th>military</th>\n",
       "      <th>allowing</th>\n",
       "      <th>ff</th>\n",
       "      <th>dry</th>\n",
       "      <th>Prediction</th>\n",
       "    </tr>\n",
       "  </thead>\n",
       "  <tbody>\n",
       "    <tr>\n",
       "      <th>0</th>\n",
       "      <td>Email 1</td>\n",
       "      <td>0</td>\n",
       "      <td>0</td>\n",
       "      <td>1</td>\n",
       "      <td>0</td>\n",
       "      <td>0</td>\n",
       "      <td>0</td>\n",
       "      <td>2</td>\n",
       "      <td>0</td>\n",
       "      <td>0</td>\n",
       "      <td>...</td>\n",
       "      <td>0</td>\n",
       "      <td>0</td>\n",
       "      <td>0</td>\n",
       "      <td>0</td>\n",
       "      <td>0</td>\n",
       "      <td>0</td>\n",
       "      <td>0</td>\n",
       "      <td>0</td>\n",
       "      <td>0</td>\n",
       "      <td>0</td>\n",
       "    </tr>\n",
       "    <tr>\n",
       "      <th>1</th>\n",
       "      <td>Email 2</td>\n",
       "      <td>8</td>\n",
       "      <td>13</td>\n",
       "      <td>24</td>\n",
       "      <td>6</td>\n",
       "      <td>6</td>\n",
       "      <td>2</td>\n",
       "      <td>102</td>\n",
       "      <td>1</td>\n",
       "      <td>27</td>\n",
       "      <td>...</td>\n",
       "      <td>0</td>\n",
       "      <td>0</td>\n",
       "      <td>0</td>\n",
       "      <td>0</td>\n",
       "      <td>0</td>\n",
       "      <td>0</td>\n",
       "      <td>0</td>\n",
       "      <td>1</td>\n",
       "      <td>0</td>\n",
       "      <td>0</td>\n",
       "    </tr>\n",
       "    <tr>\n",
       "      <th>2</th>\n",
       "      <td>Email 3</td>\n",
       "      <td>0</td>\n",
       "      <td>0</td>\n",
       "      <td>1</td>\n",
       "      <td>0</td>\n",
       "      <td>0</td>\n",
       "      <td>0</td>\n",
       "      <td>8</td>\n",
       "      <td>0</td>\n",
       "      <td>0</td>\n",
       "      <td>...</td>\n",
       "      <td>0</td>\n",
       "      <td>0</td>\n",
       "      <td>0</td>\n",
       "      <td>0</td>\n",
       "      <td>0</td>\n",
       "      <td>0</td>\n",
       "      <td>0</td>\n",
       "      <td>0</td>\n",
       "      <td>0</td>\n",
       "      <td>0</td>\n",
       "    </tr>\n",
       "    <tr>\n",
       "      <th>3</th>\n",
       "      <td>Email 4</td>\n",
       "      <td>0</td>\n",
       "      <td>5</td>\n",
       "      <td>22</td>\n",
       "      <td>0</td>\n",
       "      <td>5</td>\n",
       "      <td>1</td>\n",
       "      <td>51</td>\n",
       "      <td>2</td>\n",
       "      <td>10</td>\n",
       "      <td>...</td>\n",
       "      <td>0</td>\n",
       "      <td>0</td>\n",
       "      <td>0</td>\n",
       "      <td>0</td>\n",
       "      <td>0</td>\n",
       "      <td>0</td>\n",
       "      <td>0</td>\n",
       "      <td>0</td>\n",
       "      <td>0</td>\n",
       "      <td>0</td>\n",
       "    </tr>\n",
       "    <tr>\n",
       "      <th>4</th>\n",
       "      <td>Email 5</td>\n",
       "      <td>7</td>\n",
       "      <td>6</td>\n",
       "      <td>17</td>\n",
       "      <td>1</td>\n",
       "      <td>5</td>\n",
       "      <td>2</td>\n",
       "      <td>57</td>\n",
       "      <td>0</td>\n",
       "      <td>9</td>\n",
       "      <td>...</td>\n",
       "      <td>0</td>\n",
       "      <td>0</td>\n",
       "      <td>0</td>\n",
       "      <td>0</td>\n",
       "      <td>0</td>\n",
       "      <td>0</td>\n",
       "      <td>0</td>\n",
       "      <td>1</td>\n",
       "      <td>0</td>\n",
       "      <td>0</td>\n",
       "    </tr>\n",
       "  </tbody>\n",
       "</table>\n",
       "<p>5 rows × 3002 columns</p>\n",
       "</div>"
      ],
      "text/plain": [
       "  Email No.  the  to  ect  and  for  of    a  you  hou  ...  connevey  jay  \\\n",
       "0   Email 1    0   0    1    0    0   0    2    0    0  ...         0    0   \n",
       "1   Email 2    8  13   24    6    6   2  102    1   27  ...         0    0   \n",
       "2   Email 3    0   0    1    0    0   0    8    0    0  ...         0    0   \n",
       "3   Email 4    0   5   22    0    5   1   51    2   10  ...         0    0   \n",
       "4   Email 5    7   6   17    1    5   2   57    0    9  ...         0    0   \n",
       "\n",
       "   valued  lay  infrastructure  military  allowing  ff  dry  Prediction  \n",
       "0       0    0               0         0         0   0    0           0  \n",
       "1       0    0               0         0         0   1    0           0  \n",
       "2       0    0               0         0         0   0    0           0  \n",
       "3       0    0               0         0         0   0    0           0  \n",
       "4       0    0               0         0         0   1    0           0  \n",
       "\n",
       "[5 rows x 3002 columns]"
      ]
     },
     "execution_count": 2,
     "metadata": {},
     "output_type": "execute_result"
    }
   ],
   "source": [
    "dataset=pd.read_csv(r'C:\\Users\\vibho\\Documents\\Deep Learning\\emails.csv')\n",
    "dataset.head()"
   ]
  },
  {
   "cell_type": "code",
   "execution_count": 5,
   "metadata": {},
   "outputs": [
    {
     "data": {
      "text/plain": [
       "array([[False, False, False, ..., False, False, False],\n",
       "       [False, False, False, ..., False, False, False],\n",
       "       [False, False, False, ..., False, False, False],\n",
       "       ...,\n",
       "       [False, False, False, ..., False, False, False],\n",
       "       [False, False, False, ..., False, False, False],\n",
       "       [False, False, False, ..., False, False, False]])"
      ]
     },
     "execution_count": 5,
     "metadata": {},
     "output_type": "execute_result"
    }
   ],
   "source": [
    "dataset.isna().values"
   ]
  },
  {
   "cell_type": "code",
   "execution_count": 6,
   "metadata": {},
   "outputs": [
    {
     "name": "stdout",
     "output_type": "stream",
     "text": [
      "<class 'pandas.core.frame.DataFrame'>\n",
      "RangeIndex: 5172 entries, 0 to 5171\n",
      "Columns: 3002 entries, Email No. to Prediction\n",
      "dtypes: int64(3001), object(1)\n",
      "memory usage: 118.5+ MB\n"
     ]
    }
   ],
   "source": [
    "dataset.info()"
   ]
  },
  {
   "cell_type": "code",
   "execution_count": 8,
   "metadata": {},
   "outputs": [
    {
     "data": {
      "text/plain": [
       "Email No.     0\n",
       "the           0\n",
       "to            0\n",
       "ect           0\n",
       "and           0\n",
       "             ..\n",
       "military      0\n",
       "allowing      0\n",
       "ff            0\n",
       "dry           0\n",
       "Prediction    0\n",
       "Length: 3002, dtype: int64"
      ]
     },
     "execution_count": 8,
     "metadata": {},
     "output_type": "execute_result"
    }
   ],
   "source": [
    "dataset.isna().sum()"
   ]
  },
  {
   "cell_type": "code",
   "execution_count": 9,
   "metadata": {},
   "outputs": [],
   "source": [
    "x=dataset.iloc[:, 1:-1].values\n",
    "y=dataset.iloc[:, -1].values"
   ]
  },
  {
   "cell_type": "code",
   "execution_count": 10,
   "metadata": {},
   "outputs": [
    {
     "name": "stdout",
     "output_type": "stream",
     "text": [
      "[0 0 0 ... 1 1 0]\n"
     ]
    }
   ],
   "source": [
    "print(y)"
   ]
  },
  {
   "cell_type": "code",
   "execution_count": 11,
   "metadata": {},
   "outputs": [
    {
     "name": "stdout",
     "output_type": "stream",
     "text": [
      "[[ 0  0  1 ...  0  0  0]\n",
      " [ 8 13 24 ...  0  1  0]\n",
      " [ 0  0  1 ...  0  0  0]\n",
      " ...\n",
      " [ 0  0  1 ...  0  0  0]\n",
      " [ 2  7  1 ...  0  1  0]\n",
      " [22 24  5 ...  0  0  0]]\n"
     ]
    }
   ],
   "source": [
    "print(x)"
   ]
  },
  {
   "cell_type": "code",
   "execution_count": 12,
   "metadata": {},
   "outputs": [
    {
     "name": "stdout",
     "output_type": "stream",
     "text": [
      "[[32 25 14 ...  0  1  0]\n",
      " [42 19  1 ...  0  3  0]\n",
      " [ 1  3  1 ...  0  0  0]\n",
      " ...\n",
      " [12 18  8 ...  0  2  0]\n",
      " [10  6 96 ...  0  1  0]\n",
      " [ 1  8  2 ...  0  0  0]]\n",
      "[[14  7  2 ...  0  0  0]\n",
      " [ 6  2  1 ...  0  0  0]\n",
      " [40  6  4 ...  0  1  0]\n",
      " ...\n",
      " [ 3  1  1 ...  0  0  0]\n",
      " [ 8  3 12 ...  0  0  0]\n",
      " [ 1  6  2 ...  0  2  0]]\n"
     ]
    }
   ],
   "source": [
    "from sklearn.model_selection import train_test_split\n",
    "x_train,x_test,y_train,y_test=train_test_split(x,y, test_size=0.25, random_state=0)\n",
    "print(x_train)\n",
    "print(x_test)"
   ]
  },
  {
   "cell_type": "code",
   "execution_count": 13,
   "metadata": {},
   "outputs": [],
   "source": [
    "from sklearn.preprocessing import StandardScaler\n",
    "sc=StandardScaler()\n",
    "x_train=sc.fit_transform(x_train)\n",
    "x_test=sc.transform(x_test)"
   ]
  },
  {
   "cell_type": "code",
   "execution_count": 14,
   "metadata": {},
   "outputs": [
    {
     "name": "stdout",
     "output_type": "stream",
     "text": [
      "[[ 2.17234981  1.9271617   0.60399561 ... -0.05798835  0.02459753\n",
      "  -0.07126366]\n",
      " [ 3.02915007  1.30898893 -0.28953232 ... -0.05798835  0.77294125\n",
      "  -0.07126366]\n",
      " [-0.48373101 -0.33947178 -0.28953232 ... -0.05798835 -0.34957433\n",
      "  -0.07126366]\n",
      " ...\n",
      " [ 0.45874928  1.20596014  0.1915981  ... -0.05798835  0.39876939\n",
      "  -0.07126366]\n",
      " [ 0.28738923 -0.03038539  6.2400949  ... -0.05798835  0.02459753\n",
      "  -0.07126366]\n",
      " [-0.48373101  0.1756722  -0.22079941 ... -0.05798835 -0.34957433\n",
      "  -0.07126366]]\n"
     ]
    }
   ],
   "source": [
    "print(x_train)"
   ]
  },
  {
   "cell_type": "code",
   "execution_count": 23,
   "metadata": {},
   "outputs": [],
   "source": [
    "ann=tf.keras.models.Sequential()"
   ]
  },
  {
   "cell_type": "code",
   "execution_count": 29,
   "metadata": {},
   "outputs": [],
   "source": [
    "ann.add(tf.keras.layers.Dense(units=6,activation='relu'))"
   ]
  },
  {
   "cell_type": "code",
   "execution_count": 30,
   "metadata": {},
   "outputs": [],
   "source": [
    "ann.add(tf.keras.layers.Dense(units=6,activation='relu'))"
   ]
  },
  {
   "cell_type": "code",
   "execution_count": 31,
   "metadata": {},
   "outputs": [],
   "source": [
    "ann.add(tf.keras.layers.Dense(units=6,activation='relu'))"
   ]
  },
  {
   "cell_type": "code",
   "execution_count": 32,
   "metadata": {},
   "outputs": [],
   "source": [
    "ann.add(tf.keras.layers.Dense(units=6,activation='relu'))"
   ]
  },
  {
   "cell_type": "code",
   "execution_count": 33,
   "metadata": {},
   "outputs": [],
   "source": [
    "ann.add(tf.keras.layers.Dense(units=1,activation='sigmoid'))"
   ]
  },
  {
   "cell_type": "code",
   "execution_count": 34,
   "metadata": {},
   "outputs": [],
   "source": [
    "ann.compile(optimizer='adam',loss='binary_crossentropy',metrics=['accuracy'])"
   ]
  },
  {
   "cell_type": "code",
   "execution_count": 35,
   "metadata": {},
   "outputs": [
    {
     "name": "stdout",
     "output_type": "stream",
     "text": [
      "Epoch 1/100\n",
      "122/122 [==============================] - 2s 2ms/step - loss: 0.6049 - accuracy: 0.7071\n",
      "Epoch 2/100\n",
      "122/122 [==============================] - 0s 2ms/step - loss: 0.4085 - accuracy: 0.7071\n",
      "Epoch 3/100\n",
      "122/122 [==============================] - 0s 2ms/step - loss: 0.2124 - accuracy: 0.9523\n",
      "Epoch 4/100\n",
      "122/122 [==============================] - 0s 2ms/step - loss: 0.0999 - accuracy: 0.9863\n",
      "Epoch 5/100\n",
      "122/122 [==============================] - 0s 2ms/step - loss: 0.0537 - accuracy: 0.9894\n",
      "Epoch 6/100\n",
      "122/122 [==============================] - 0s 2ms/step - loss: 0.0437 - accuracy: 0.9889\n",
      "Epoch 7/100\n",
      "122/122 [==============================] - 0s 2ms/step - loss: 0.0430 - accuracy: 0.9889\n",
      "Epoch 8/100\n",
      "122/122 [==============================] - 0s 2ms/step - loss: 0.0239 - accuracy: 0.9943\n",
      "Epoch 9/100\n",
      "122/122 [==============================] - 0s 2ms/step - loss: 0.0198 - accuracy: 0.9959\n",
      "Epoch 10/100\n",
      "122/122 [==============================] - 0s 2ms/step - loss: 0.0368 - accuracy: 0.9907\n",
      "Epoch 11/100\n",
      "122/122 [==============================] - 0s 2ms/step - loss: 0.0138 - accuracy: 0.9974\n",
      "Epoch 12/100\n",
      "122/122 [==============================] - 0s 2ms/step - loss: 0.0145 - accuracy: 0.9964\n",
      "Epoch 13/100\n",
      "122/122 [==============================] - 0s 2ms/step - loss: 0.0136 - accuracy: 0.9964\n",
      "Epoch 14/100\n",
      "122/122 [==============================] - 0s 2ms/step - loss: 0.0101 - accuracy: 0.9979\n",
      "Epoch 15/100\n",
      "122/122 [==============================] - 0s 2ms/step - loss: 0.0117 - accuracy: 0.9974\n",
      "Epoch 16/100\n",
      "122/122 [==============================] - 0s 2ms/step - loss: 0.0096 - accuracy: 0.9979\n",
      "Epoch 17/100\n",
      "122/122 [==============================] - 0s 2ms/step - loss: 0.0086 - accuracy: 0.9985\n",
      "Epoch 18/100\n",
      "122/122 [==============================] - 0s 2ms/step - loss: 0.0120 - accuracy: 0.9974\n",
      "Epoch 19/100\n",
      "122/122 [==============================] - 0s 2ms/step - loss: 0.0119 - accuracy: 0.9972\n",
      "Epoch 20/100\n",
      "122/122 [==============================] - 0s 2ms/step - loss: 0.0159 - accuracy: 0.9961\n",
      "Epoch 21/100\n",
      "122/122 [==============================] - 0s 2ms/step - loss: 0.0089 - accuracy: 0.9985\n",
      "Epoch 22/100\n",
      "122/122 [==============================] - 0s 2ms/step - loss: 0.0084 - accuracy: 0.9985\n",
      "Epoch 23/100\n",
      "122/122 [==============================] - 0s 2ms/step - loss: 0.0084 - accuracy: 0.9987\n",
      "Epoch 24/100\n",
      "122/122 [==============================] - 0s 2ms/step - loss: 0.0085 - accuracy: 0.9985\n",
      "Epoch 25/100\n",
      "122/122 [==============================] - 0s 2ms/step - loss: 0.0092 - accuracy: 0.9985\n",
      "Epoch 26/100\n",
      "122/122 [==============================] - 0s 2ms/step - loss: 0.0086 - accuracy: 0.9985\n",
      "Epoch 27/100\n",
      "122/122 [==============================] - 0s 2ms/step - loss: 0.0128 - accuracy: 0.9974\n",
      "Epoch 28/100\n",
      "122/122 [==============================] - 0s 2ms/step - loss: 0.0088 - accuracy: 0.9985\n",
      "Epoch 29/100\n",
      "122/122 [==============================] - 0s 2ms/step - loss: 0.0096 - accuracy: 0.9974\n",
      "Epoch 30/100\n",
      "122/122 [==============================] - 0s 2ms/step - loss: 0.0088 - accuracy: 0.9985\n",
      "Epoch 31/100\n",
      "122/122 [==============================] - 0s 2ms/step - loss: 0.0086 - accuracy: 0.9985\n",
      "Epoch 32/100\n",
      "122/122 [==============================] - 0s 2ms/step - loss: 0.0081 - accuracy: 0.9987\n",
      "Epoch 33/100\n",
      "122/122 [==============================] - 0s 2ms/step - loss: 0.0310 - accuracy: 0.9933\n",
      "Epoch 34/100\n",
      "122/122 [==============================] - 0s 2ms/step - loss: 0.0087 - accuracy: 0.9987\n",
      "Epoch 35/100\n",
      "122/122 [==============================] - 0s 2ms/step - loss: 0.0119 - accuracy: 0.9977\n",
      "Epoch 36/100\n",
      "122/122 [==============================] - 0s 2ms/step - loss: 0.0111 - accuracy: 0.9979\n",
      "Epoch 37/100\n",
      "122/122 [==============================] - 0s 2ms/step - loss: 0.0097 - accuracy: 0.9985\n",
      "Epoch 38/100\n",
      "122/122 [==============================] - 0s 2ms/step - loss: 0.0105 - accuracy: 0.9979\n",
      "Epoch 39/100\n",
      "122/122 [==============================] - 0s 2ms/step - loss: 0.0102 - accuracy: 0.9979\n",
      "Epoch 40/100\n",
      "122/122 [==============================] - 0s 2ms/step - loss: 0.0097 - accuracy: 0.9985\n",
      "Epoch 41/100\n",
      "122/122 [==============================] - 0s 2ms/step - loss: 0.0103 - accuracy: 0.9985\n",
      "Epoch 42/100\n",
      "122/122 [==============================] - 0s 2ms/step - loss: 0.0099 - accuracy: 0.9985\n",
      "Epoch 43/100\n",
      "122/122 [==============================] - 0s 2ms/step - loss: 0.0095 - accuracy: 0.9985\n",
      "Epoch 44/100\n",
      "122/122 [==============================] - 0s 2ms/step - loss: 0.0177 - accuracy: 0.9956\n",
      "Epoch 45/100\n",
      "122/122 [==============================] - 0s 2ms/step - loss: 0.0103 - accuracy: 0.9982\n",
      "Epoch 46/100\n",
      "122/122 [==============================] - 0s 2ms/step - loss: 0.0102 - accuracy: 0.9982\n",
      "Epoch 47/100\n",
      "122/122 [==============================] - 0s 2ms/step - loss: 0.0099 - accuracy: 0.9982\n",
      "Epoch 48/100\n",
      "122/122 [==============================] - 0s 2ms/step - loss: 0.0104 - accuracy: 0.9979\n",
      "Epoch 49/100\n",
      "122/122 [==============================] - 0s 2ms/step - loss: 0.0107 - accuracy: 0.9974\n",
      "Epoch 50/100\n",
      "122/122 [==============================] - 0s 2ms/step - loss: 0.0111 - accuracy: 0.9985\n",
      "Epoch 51/100\n",
      "122/122 [==============================] - 0s 2ms/step - loss: 0.0083 - accuracy: 0.9985\n",
      "Epoch 52/100\n",
      "122/122 [==============================] - 0s 2ms/step - loss: 0.0093 - accuracy: 0.9982\n",
      "Epoch 53/100\n",
      "122/122 [==============================] - 0s 2ms/step - loss: 0.0087 - accuracy: 0.9985\n",
      "Epoch 54/100\n",
      "122/122 [==============================] - 0s 2ms/step - loss: 0.0132 - accuracy: 0.9961\n",
      "Epoch 55/100\n",
      "122/122 [==============================] - 0s 2ms/step - loss: 0.0081 - accuracy: 0.9987\n",
      "Epoch 56/100\n",
      "122/122 [==============================] - 0s 2ms/step - loss: 0.0081 - accuracy: 0.9987\n",
      "Epoch 57/100\n",
      "122/122 [==============================] - 0s 2ms/step - loss: 0.0081 - accuracy: 0.9987\n",
      "Epoch 58/100\n",
      "122/122 [==============================] - 0s 2ms/step - loss: 0.0082 - accuracy: 0.9985\n",
      "Epoch 59/100\n",
      "122/122 [==============================] - 0s 2ms/step - loss: 0.0083 - accuracy: 0.9987\n",
      "Epoch 60/100\n",
      "122/122 [==============================] - 0s 2ms/step - loss: 0.0108 - accuracy: 0.9974\n",
      "Epoch 61/100\n",
      "122/122 [==============================] - 0s 2ms/step - loss: 0.0080 - accuracy: 0.9985\n",
      "Epoch 62/100\n",
      "122/122 [==============================] - 0s 2ms/step - loss: 0.0091 - accuracy: 0.9985\n",
      "Epoch 63/100\n",
      "122/122 [==============================] - 0s 2ms/step - loss: 0.0093 - accuracy: 0.9979\n",
      "Epoch 64/100\n",
      "122/122 [==============================] - 0s 2ms/step - loss: 0.0114 - accuracy: 0.9974\n",
      "Epoch 65/100\n",
      "122/122 [==============================] - 0s 2ms/step - loss: 0.0081 - accuracy: 0.9987\n",
      "Epoch 66/100\n",
      "122/122 [==============================] - 0s 2ms/step - loss: 0.0081 - accuracy: 0.9987\n",
      "Epoch 67/100\n",
      "122/122 [==============================] - 0s 2ms/step - loss: 0.0083 - accuracy: 0.9982\n",
      "Epoch 68/100\n",
      "122/122 [==============================] - 0s 2ms/step - loss: 0.0080 - accuracy: 0.9987\n",
      "Epoch 69/100\n",
      "122/122 [==============================] - 0s 2ms/step - loss: 0.0087 - accuracy: 0.9982\n",
      "Epoch 70/100\n",
      "122/122 [==============================] - 0s 2ms/step - loss: 0.0084 - accuracy: 0.9985\n",
      "Epoch 71/100\n",
      "122/122 [==============================] - 0s 2ms/step - loss: 0.0084 - accuracy: 0.9987\n",
      "Epoch 72/100\n",
      "122/122 [==============================] - 0s 2ms/step - loss: 0.0080 - accuracy: 0.9987\n",
      "Epoch 73/100\n",
      "122/122 [==============================] - 0s 2ms/step - loss: 0.0085 - accuracy: 0.9985\n",
      "Epoch 74/100\n",
      "122/122 [==============================] - 0s 2ms/step - loss: 0.0100 - accuracy: 0.9974\n",
      "Epoch 75/100\n",
      "122/122 [==============================] - 0s 2ms/step - loss: 0.0082 - accuracy: 0.9987\n",
      "Epoch 76/100\n",
      "122/122 [==============================] - 0s 2ms/step - loss: 0.0083 - accuracy: 0.9987\n",
      "Epoch 77/100\n",
      "122/122 [==============================] - 0s 2ms/step - loss: 0.0083 - accuracy: 0.9985\n",
      "Epoch 78/100\n",
      "122/122 [==============================] - 0s 2ms/step - loss: 0.0157 - accuracy: 0.9956\n",
      "Epoch 79/100\n",
      "122/122 [==============================] - 0s 2ms/step - loss: 0.0081 - accuracy: 0.9987\n",
      "Epoch 80/100\n",
      "122/122 [==============================] - 0s 2ms/step - loss: 0.0081 - accuracy: 0.9987\n",
      "Epoch 81/100\n",
      "122/122 [==============================] - 0s 2ms/step - loss: 0.0080 - accuracy: 0.9987\n",
      "Epoch 82/100\n",
      "122/122 [==============================] - 0s 2ms/step - loss: 0.0081 - accuracy: 0.9987\n",
      "Epoch 83/100\n",
      "122/122 [==============================] - 0s 2ms/step - loss: 0.0082 - accuracy: 0.9987\n",
      "Epoch 84/100\n",
      "122/122 [==============================] - 0s 2ms/step - loss: 0.0079 - accuracy: 0.9987\n",
      "Epoch 85/100\n",
      "122/122 [==============================] - 0s 2ms/step - loss: 0.0131 - accuracy: 0.9972\n",
      "Epoch 86/100\n",
      "122/122 [==============================] - 0s 2ms/step - loss: 0.0284 - accuracy: 0.9948\n",
      "Epoch 87/100\n",
      "122/122 [==============================] - 0s 2ms/step - loss: 0.0135 - accuracy: 0.9972\n",
      "Epoch 88/100\n",
      "122/122 [==============================] - 0s 2ms/step - loss: 0.0126 - accuracy: 0.9977\n",
      "Epoch 89/100\n",
      "122/122 [==============================] - 0s 2ms/step - loss: 0.0094 - accuracy: 0.9985\n",
      "Epoch 90/100\n",
      "122/122 [==============================] - 0s 2ms/step - loss: 0.0081 - accuracy: 0.9987\n",
      "Epoch 91/100\n",
      "122/122 [==============================] - 0s 2ms/step - loss: 0.0081 - accuracy: 0.9987\n",
      "Epoch 92/100\n",
      "122/122 [==============================] - 0s 2ms/step - loss: 0.0080 - accuracy: 0.9987\n",
      "Epoch 93/100\n",
      "122/122 [==============================] - 0s 2ms/step - loss: 0.0080 - accuracy: 0.9987\n",
      "Epoch 94/100\n",
      "122/122 [==============================] - 0s 3ms/step - loss: 0.0081 - accuracy: 0.9987\n",
      "Epoch 95/100\n",
      "122/122 [==============================] - 0s 2ms/step - loss: 0.0081 - accuracy: 0.9987\n",
      "Epoch 96/100\n",
      "122/122 [==============================] - 0s 2ms/step - loss: 0.0126 - accuracy: 0.9972\n",
      "Epoch 97/100\n",
      "122/122 [==============================] - 0s 2ms/step - loss: 0.0082 - accuracy: 0.9987\n",
      "Epoch 98/100\n",
      "122/122 [==============================] - 0s 2ms/step - loss: 0.0080 - accuracy: 0.9987\n",
      "Epoch 99/100\n",
      "122/122 [==============================] - 0s 2ms/step - loss: 0.0079 - accuracy: 0.9987\n",
      "Epoch 100/100\n",
      "122/122 [==============================] - 0s 2ms/step - loss: 0.0081 - accuracy: 0.9987\n"
     ]
    },
    {
     "data": {
      "text/plain": [
       "<keras.callbacks.History at 0x288256ce6d0>"
      ]
     },
     "execution_count": 35,
     "metadata": {},
     "output_type": "execute_result"
    }
   ],
   "source": [
    "ann.fit(x_train,y_train,batch_size=32,epochs=100)"
   ]
  },
  {
   "cell_type": "code",
   "execution_count": 37,
   "metadata": {},
   "outputs": [
    {
     "name": "stdout",
     "output_type": "stream",
     "text": [
      "41/41 [==============================] - 0s 2ms/step\n",
      "[[0 0]\n",
      " [0 0]\n",
      " [0 0]\n",
      " ...\n",
      " [0 0]\n",
      " [0 0]\n",
      " [1 1]]\n"
     ]
    }
   ],
   "source": [
    "y_pred = ann.predict(x_test)\n",
    "y_pred = (y_pred > 0.5)\n",
    "print(np.concatenate((y_pred.reshape(len(y_pred),1), y_test.reshape(len(y_test),1)),1))"
   ]
  },
  {
   "cell_type": "code",
   "execution_count": 38,
   "metadata": {},
   "outputs": [
    {
     "name": "stdout",
     "output_type": "stream",
     "text": [
      "[[895  34]\n",
      " [  4 360]]\n"
     ]
    },
    {
     "data": {
      "text/plain": [
       "0.9706109822119103"
      ]
     },
     "execution_count": 38,
     "metadata": {},
     "output_type": "execute_result"
    }
   ],
   "source": [
    "from sklearn.metrics import confusion_matrix,accuracy_score\n",
    "cm=confusion_matrix(y_test,y_pred)\n",
    "print(cm)\n",
    "accuracy_score(y_test,y_pred)"
   ]
  },
  {
   "cell_type": "code",
   "execution_count": null,
   "metadata": {},
   "outputs": [],
   "source": []
  }
 ],
 "metadata": {
  "kernelspec": {
   "display_name": "Python 3",
   "language": "python",
   "name": "python3"
  },
  "language_info": {
   "codemirror_mode": {
    "name": "ipython",
    "version": 3
   },
   "file_extension": ".py",
   "mimetype": "text/x-python",
   "name": "python",
   "nbconvert_exporter": "python",
   "pygments_lexer": "ipython3",
   "version": "3.11.2"
  },
  "orig_nbformat": 4
 },
 "nbformat": 4,
 "nbformat_minor": 2
}
